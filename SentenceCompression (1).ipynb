{
  "nbformat": 4,
  "nbformat_minor": 0,
  "metadata": {
    "colab": {
      "name": "SentenceCompression.ipynb",
      "provenance": [],
      "collapsed_sections": [],
      "machine_shape": "hm"
    },
    "kernelspec": {
      "name": "python3",
      "display_name": "Python 3"
    },
    "accelerator": "GPU"
  },
  "cells": [
    {
      "cell_type": "markdown",
      "metadata": {
        "id": "6rTFN3kRBXtz",
        "colab_type": "text"
      },
      "source": [
        "# Basic Setup"
      ]
    },
    {
      "cell_type": "markdown",
      "metadata": {
        "id": "wzC29Z998Q-7",
        "colab_type": "text"
      },
      "source": [
        "### Load Libraries and define functions"
      ]
    },
    {
      "cell_type": "code",
      "metadata": {
        "id": "kTY1l4HcBXGb",
        "colab_type": "code",
        "colab": {}
      },
      "source": [
        "# Load Libraries\n",
        "import numpy as np\n",
        "import pandas as pd\n",
        "import glob\n",
        "import re\n",
        "import csv\n",
        "import matplotlib.pyplot as plt\n",
        "from sklearn.metrics import f1_score \n",
        "\n",
        "# Load Pytorch Libraries\n",
        "import torch\n",
        "from torch import optim\n",
        "import torch.nn as nn\n",
        "from torch.utils.data import DataLoader\n",
        "from torch.utils.data import SequentialSampler, RandomSampler\n",
        "\n",
        "from keras.preprocessing import text, sequence\n",
        "from keras.preprocessing.text import Tokenizer\n",
        "\n",
        "from torch.utils.data import TensorDataset\n",
        "##@ Set Seeds\n",
        "np.random.seed(123)\n",
        "torch.manual_seed(123)\n",
        "torch.cuda.manual_seed(123)\n",
        "torch.backends.cudnn.deterministic = True"
      ],
      "execution_count": 0,
      "outputs": []
    },
    {
      "cell_type": "code",
      "metadata": {
        "id": "WNIq4bSowdYO",
        "colab_type": "code",
        "outputId": "b4cd353c-3e37-46c2-b55e-7b9d8fc2f6a1",
        "colab": {
          "base_uri": "https://localhost:8080/",
          "height": 318
        }
      },
      "source": [
        "# specify GPU device\n",
        "device = torch.device(\"cuda\" if torch.cuda.is_available() else \"cpu\")\n",
        "n_gpu = torch.cuda.device_count()\n",
        "print(torch.cuda.get_device_name(0))\n",
        "\n",
        "gpu_info = !nvidia-smi\n",
        "gpu_info = '\\n'.join(gpu_info)\n",
        "if gpu_info.find('failed') >= 0:\n",
        "  print('Select the Runtime → \"Change runtime type\" menu to enable a GPU accelerator, ')\n",
        "  print('and then re-execute this cell.')\n",
        "else:\n",
        "  print(gpu_info)"
      ],
      "execution_count": 30,
      "outputs": [
        {
          "output_type": "stream",
          "text": [
            "Tesla P100-PCIE-16GB\n",
            "Sun May 24 23:07:33 2020       \n",
            "+-----------------------------------------------------------------------------+\n",
            "| NVIDIA-SMI 440.82       Driver Version: 418.67       CUDA Version: 10.1     |\n",
            "|-------------------------------+----------------------+----------------------+\n",
            "| GPU  Name        Persistence-M| Bus-Id        Disp.A | Volatile Uncorr. ECC |\n",
            "| Fan  Temp  Perf  Pwr:Usage/Cap|         Memory-Usage | GPU-Util  Compute M. |\n",
            "|===============================+======================+======================|\n",
            "|   0  Tesla P100-PCIE...  Off  | 00000000:00:04.0 Off |                    0 |\n",
            "| N/A   37C    P0    31W / 250W |   5299MiB / 16280MiB |      0%      Default |\n",
            "+-------------------------------+----------------------+----------------------+\n",
            "                                                                               \n",
            "+-----------------------------------------------------------------------------+\n",
            "| Processes:                                                       GPU Memory |\n",
            "|  GPU       PID   Type   Process name                             Usage      |\n",
            "|=============================================================================|\n",
            "+-----------------------------------------------------------------------------+\n"
          ],
          "name": "stdout"
        }
      ]
    },
    {
      "cell_type": "code",
      "metadata": {
        "id": "E9Z4TKKMN7-I",
        "colab_type": "code",
        "colab": {}
      },
      "source": [
        "# Define Functions\n",
        "\n",
        "#Define function to split words\n",
        "def splitwords(mydataframe, maxSeqLength, ReportOrderChanged = False):\n",
        "    ''' \n",
        "    Takes in my dataframe with columns \"original\" and \"summary\"\n",
        "    Returns the sentences and summaries in list of words, plus length in dataframe format\n",
        "    Also returns which sentences have word order chnaged in summary\n",
        "    '''\n",
        "    x = list(mydataframe['original'])\n",
        "    y = list(mydataframe['summary'])\n",
        "    xsplit = []\n",
        "    ysplit = []\n",
        "    xlen = []\n",
        "    ylen = []\n",
        "    labelslist = []\n",
        "    orderchanged = []\n",
        "\n",
        "    for i in range(len(x)):\n",
        "        xwords = re.findall(r\"[\\w]+|[^\\s\\w]\", x[i].lower()+'.')\n",
        "        ywords = re.findall(r\"[\\w]+|[^\\s\\w]\", y[i].lower())\n",
        "        xsplit.append(xwords)\n",
        "        ysplit.append(ywords)\n",
        "        xlen.append(len(xwords))\n",
        "        ylen.append(len(ywords))\n",
        "\n",
        "    for j in range(len(xsplit)):\n",
        "        x1 = xsplit[j]\n",
        "        y1 = ysplit[j]\n",
        "        labels = [0]*maxSeqLength\n",
        "        pointer = 0\n",
        "        for wordindex in range(len(x1)):\n",
        "            if x1[wordindex] == y1[pointer]:\n",
        "                labels[wordindex] = 1\n",
        "                pointer += 1\n",
        "            if pointer > len(y1)-1:\n",
        "                break\n",
        "            if wordindex > len(labels)-1:\n",
        "                break            \n",
        "        labelslist.append(labels)\n",
        "        if len(ysplit[j]) != sum(labels):\n",
        "            if ReportOrderChanged == True:\n",
        "                print(\"Error occured in labelling at item\", j,)\n",
        "                print(xsplit[j])\n",
        "                print(ysplit[j])\n",
        "                print(labels)\n",
        "            orderchanged.append(1)\n",
        "        else:\n",
        "            orderchanged.append(0)\n",
        "    mydataframe['xsplit'] = xsplit\n",
        "    mydataframe['ysplit'] = ysplit\n",
        "    mydataframe['xlen'] = xlen\n",
        "    mydataframe['ylen'] = ylen\n",
        "    mydataframe['labelslist'] = labelslist\n",
        "    mydataframe['orderchanged'] = orderchanged\n",
        "    return mydataframe\n",
        "\n",
        "##@ Define function to check per-sentence accuracy (i.e., how many compressions could be fully reproduced)\n",
        "'''\n",
        "Inputs: Vector of predicted values shape (m, MaxSentenceLength)\n",
        "Outputs: Sentence Accuracy, list of matches or non-matches (1s or 0s)\n",
        "'''\n",
        "def persentenceACC(predicted,labels):\n",
        "    same = []\n",
        "    for i in range(len(predicted)):\n",
        "        if np.array_equal(predicted[i], labels[i]):\n",
        "            same.append(True)\n",
        "        else:\n",
        "            same.append(False)\n",
        "    sentenceaccuracy = np.sum(same)/len(predicted)\n",
        "    return sentenceaccuracy, same"
      ],
      "execution_count": 0,
      "outputs": []
    },
    {
      "cell_type": "markdown",
      "metadata": {
        "id": "jPZIb4T28VmW",
        "colab_type": "text"
      },
      "source": [
        "### Load glove Model"
      ]
    },
    {
      "cell_type": "code",
      "metadata": {
        "id": "kr2cX6HZVjHZ",
        "colab_type": "code",
        "outputId": "15487e6a-83ae-4ba7-ef86-754cbbbb111e",
        "colab": {
          "base_uri": "https://localhost:8080/",
          "height": 425
        }
      },
      "source": [
        "# Load glove model with pretrained embeddings\n",
        "def loadGloveModel(File):\n",
        "    print(\"Loading Glove Model\")\n",
        "    f = open(File,'r')\n",
        "    gloveModel = {}\n",
        "    counter = 0\n",
        "    for line in f:\n",
        "        # print(line)\n",
        "        # break\n",
        "        splitLines = line.split(\" \")\n",
        "        # print(splitLines)\n",
        "        word = splitLines[0]\n",
        "        wordEmbedding = np.array([float(value) for value in splitLines[1:]])\n",
        "        gloveModel[word] = wordEmbedding\n",
        "        counter += 1\n",
        "        if counter % 100000 == 0:\n",
        "            print(counter)\n",
        "    print(len(gloveModel),\" words loaded!\")\n",
        "    return gloveModel\n",
        "gloveModel = loadGloveModel(\"/content/drive/My Drive/DeepLearningProject/glove.840B.300d.txt\") ##@ This makes a dictionary of embeddings\n"
      ],
      "execution_count": 32,
      "outputs": [
        {
          "output_type": "stream",
          "text": [
            "Loading Glove Model\n",
            "100000\n",
            "200000\n",
            "300000\n",
            "400000\n",
            "500000\n",
            "600000\n",
            "700000\n",
            "800000\n",
            "900000\n",
            "1000000\n",
            "1100000\n",
            "1200000\n",
            "1300000\n",
            "1400000\n",
            "1500000\n",
            "1600000\n",
            "1700000\n",
            "1800000\n",
            "1900000\n",
            "2000000\n",
            "2100000\n",
            "2196016  words loaded!\n"
          ],
          "name": "stdout"
        }
      ]
    },
    {
      "cell_type": "code",
      "metadata": {
        "id": "8QkZ9sIJDnxu",
        "colab_type": "code",
        "outputId": "3a5cb8ff-6e11-43fd-b1a3-e6814df0b8fc",
        "colab": {
          "base_uri": "https://localhost:8080/",
          "height": 34
        }
      },
      "source": [
        "## Add a vector for \"unknown\" words (https://stackoverflow.com/questions/49239941/what-is-unk-in-the-pretrained-glove-vector-files-e-g-glove-6b-50d-txt)\n",
        "unknownEmbedding = \"0.22418134 -0.28881392 0.13854356 0.00365387 -0.12870757 0.10243822 0.061626635 0.07318011 -0.061350107 -1.3477012 0.42037755 -0.063593924 -0.09683349 0.18086134 0.23704372 0.014126852 0.170096 -1.1491593 0.31497982 0.06622181 0.024687296 0.076693475 0.13851812 0.021302193 -0.06640582 -0.010336159 0.13523154 -0.042144544 -0.11938788 0.006948221 0.13333307 -0.18276379 0.052385733 0.008943111 -0.23957317 0.08500333 -0.006894406 0.0015864656 0.063391194 0.19177166 -0.13113557 -0.11295479 -0.14276934 0.03413971 -0.034278486 -0.051366422 0.18891625 -0.16673574 -0.057783455 0.036823478 0.08078679 0.022949161 0.033298038 0.011784158 0.05643189 -0.042776518 0.011959623 0.011552498 -0.0007971594 0.11300405 -0.031369694 -0.0061559738 -0.009043574 -0.415336 -0.18870236 0.13708843 0.005911723 -0.113035575 -0.030096142 -0.23908928 -0.05354085 -0.044904727 -0.20228513 0.0065645403 -0.09578946 -0.07391877 -0.06487607 0.111740574 -0.048649278 -0.16565254 -0.052037314 -0.078968436 0.13684988 0.0757494 -0.006275573 0.28693774 0.52017444 -0.0877165 -0.33010918 -0.1359622 0.114895485 -0.09744406 0.06269521 0.12118575 -0.08026362 0.35256687 -0.060017522 -0.04889904 -0.06828978 0.088740796 0.003964443 -0.0766291 0.1263925 0.07809314 -0.023164088 -0.5680669 -0.037892066 -0.1350967 -0.11351585 -0.111434504 -0.0905027 0.25174105 -0.14841858 0.034635577 -0.07334565 0.06320108 -0.038343467 -0.05413284 0.042197507 -0.090380974 -0.070528865 -0.009174437 0.009069661 0.1405178 0.02958134 -0.036431845 -0.08625681 0.042951006 0.08230793 0.0903314 -0.12279937 -0.013899368 0.048119213 0.08678239 -0.14450377 -0.04424887 0.018319942 0.015026873 -0.100526 0.06021201 0.74059093 -0.0016333034 -0.24960588 -0.023739101 0.016396184 0.11928964 0.13950661 -0.031624354 -0.01645025 0.14079992 -0.0002824564 -0.08052984 -0.0021310581 -0.025350995 0.086938225 0.14308536 0.17146006 -0.13943303 0.048792403 0.09274929 -0.053167373 0.031103406 0.012354865 0.21057427 0.32618305 0.18015954 -0.15881181 0.15322933 -0.22558987 -0.04200665 0.0084689725 0.038156632 0.15188617 0.13274793 0.113756925 -0.095273495 -0.049490947 -0.10265804 -0.27064866 -0.034567792 -0.018810693 -0.0010360252 0.10340131 0.13883452 0.21131058 -0.01981019 0.1833468 -0.10751636 -0.03128868 0.02518242 0.23232952 0.042052146 0.11731903 -0.15506615 0.0063580726 -0.15429358 0.1511722 0.12745973 0.2576985 -0.25486213 -0.0709463 0.17983761 0.054027 -0.09884228 -0.24595179 -0.093028545 -0.028203879 0.094398156 0.09233813 0.029291354 0.13110267 0.15682974 -0.016919162 0.23927948 -0.1343307 -0.22422817 0.14634751 -0.064993896 0.4703685 -0.027190214 0.06224946 -0.091360025 0.21490277 -0.19562101 -0.10032754 -0.09056772 -0.06203493 -0.18876675 -0.10963594 -0.27734384 0.12616494 -0.02217992 -0.16058226 -0.080475815 0.026953284 0.110732645 0.014894041 0.09416802 0.14299914 -0.1594008 -0.066080004 -0.007995227 -0.11668856 -0.13081996 -0.09237365 0.14741232 0.09180138 0.081735 0.3211204 -0.0036552632 -0.047030564 -0.02311798 0.048961394 0.08669574 -0.06766279 -0.50028914 -0.048515294 0.14144728 -0.032994404 -0.11954345 -0.14929578 -0.2388355 -0.019883996 -0.15917352 -0.052084364 0.2801028 -0.0029121689 -0.054581646 -0.47385484 0.17112483 -0.12066923 -0.042173345 0.1395337 0.26115036 0.012869649 0.009291686 -0.0026459037 -0.075331464 0.017840583 -0.26869613 -0.21820338 -0.17084768 -0.1022808 -0.055290595 0.13513643 0.12362477 -0.10980586 0.13980341 -0.20233242 0.08813751 0.3849736 -0.10653763 -0.06199595 0.028849555 0.03230154 0.023856193 0.069950655 0.19310954 -0.077677034 -0.144811\"\n",
        "unknownEmbedding = unknownEmbedding.split(\" \")\n",
        "len(unknownEmbedding)"
      ],
      "execution_count": 33,
      "outputs": [
        {
          "output_type": "execute_result",
          "data": {
            "text/plain": [
              "300"
            ]
          },
          "metadata": {
            "tags": []
          },
          "execution_count": 33
        }
      ]
    },
    {
      "cell_type": "markdown",
      "metadata": {
        "id": "50tEOrLZ8bUC",
        "colab_type": "text"
      },
      "source": [
        "### Import Data"
      ]
    },
    {
      "cell_type": "code",
      "metadata": {
        "id": "1khSeRNbBTDh",
        "colab_type": "code",
        "outputId": "deae8f41-db47-4413-835e-a4a2dffa8ea9",
        "colab": {
          "base_uri": "https://localhost:8080/",
          "height": 90
        }
      },
      "source": [
        "# Get list of files\n",
        "inputs = glob.glob(\"/content/drive/My Drive/DeepLearningProject/csv/*.csv\")\n",
        "inputs.sort()\n",
        "print(inputs)\n",
        "filename = inputs[0]\n",
        "filename2 = inputs[1]\n",
        "print(filename)\n",
        "print(filename2)"
      ],
      "execution_count": 34,
      "outputs": [
        {
          "output_type": "stream",
          "text": [
            "['/content/drive/My Drive/DeepLearningProject/csv/comp-data.eval.csv', '/content/drive/My Drive/DeepLearningProject/csv/sent-comp.train01.csv', '/content/drive/My Drive/DeepLearningProject/csv/sent-comp.train02.csv', '/content/drive/My Drive/DeepLearningProject/csv/sent-comp.train03.csv', '/content/drive/My Drive/DeepLearningProject/csv/sent-comp.train04.csv', '/content/drive/My Drive/DeepLearningProject/csv/sent-comp.train05.csv', '/content/drive/My Drive/DeepLearningProject/csv/sent-comp.train06.csv', '/content/drive/My Drive/DeepLearningProject/csv/sent-comp.train07.csv', '/content/drive/My Drive/DeepLearningProject/csv/sent-comp.train08.csv', '/content/drive/My Drive/DeepLearningProject/csv/sent-comp.train09.csv', '/content/drive/My Drive/DeepLearningProject/csv/sent-comp.train10.csv']\n",
            "/content/drive/My Drive/DeepLearningProject/csv/comp-data.eval.csv\n",
            "/content/drive/My Drive/DeepLearningProject/csv/sent-comp.train01.csv\n"
          ],
          "name": "stdout"
        }
      ]
    },
    {
      "cell_type": "code",
      "metadata": {
        "id": "2ncR1bYJc0nO",
        "colab_type": "code",
        "outputId": "e71cb505-775e-4a41-d1c9-4cc2a56aa618",
        "colab": {
          "base_uri": "https://localhost:8080/",
          "height": 372
        }
      },
      "source": [
        "# Read In Test Data\n",
        "filename = inputs[0]\n",
        "rawdatatest = pd.read_csv(filename)\n",
        "print(\"Raw test data examples:\", len(rawdatatest))\n",
        "\n",
        "# Read In Train Data\n",
        "filename2 = inputs[1]\n",
        "rawdatatrain= pd.read_csv(filename2)\n",
        "print(\"Raw train data examples:\" ,len(rawdatatrain))\n",
        "for i in range(2,len(inputs)):\n",
        "    filename2 = inputs[i]\n",
        "    print(\"Loading\",filename2)\n",
        "    rawdatanext= pd.read_csv(filename2)\n",
        "    rawdatatrain = pd.concat([rawdatatrain,rawdatanext])\n",
        "    print(\"Raw train data examples:\",len(rawdatatrain))"
      ],
      "execution_count": 35,
      "outputs": [
        {
          "output_type": "stream",
          "text": [
            "Raw test data examples: 10000\n",
            "Raw train data examples: 20000\n",
            "Loading /content/drive/My Drive/DeepLearningProject/csv/sent-comp.train02.csv\n",
            "Raw train data examples: 40000\n",
            "Loading /content/drive/My Drive/DeepLearningProject/csv/sent-comp.train03.csv\n",
            "Raw train data examples: 60000\n",
            "Loading /content/drive/My Drive/DeepLearningProject/csv/sent-comp.train04.csv\n",
            "Raw train data examples: 80000\n",
            "Loading /content/drive/My Drive/DeepLearningProject/csv/sent-comp.train05.csv\n",
            "Raw train data examples: 100000\n",
            "Loading /content/drive/My Drive/DeepLearningProject/csv/sent-comp.train06.csv\n",
            "Raw train data examples: 120000\n",
            "Loading /content/drive/My Drive/DeepLearningProject/csv/sent-comp.train07.csv\n",
            "Raw train data examples: 140000\n",
            "Loading /content/drive/My Drive/DeepLearningProject/csv/sent-comp.train08.csv\n",
            "Raw train data examples: 160000\n",
            "Loading /content/drive/My Drive/DeepLearningProject/csv/sent-comp.train09.csv\n",
            "Raw train data examples: 180000\n",
            "Loading /content/drive/My Drive/DeepLearningProject/csv/sent-comp.train10.csv\n",
            "Raw train data examples: 200000\n"
          ],
          "name": "stdout"
        }
      ]
    },
    {
      "cell_type": "markdown",
      "metadata": {
        "id": "EIjTCTN58tjD",
        "colab_type": "text"
      },
      "source": [
        "### Data Preprocessing"
      ]
    },
    {
      "cell_type": "markdown",
      "metadata": {
        "id": "7gEAtf2s-x7M",
        "colab_type": "text"
      },
      "source": [
        "#### Create dataframes of Train and Test sets, filter , then construct labels"
      ]
    },
    {
      "cell_type": "code",
      "metadata": {
        "id": "WE12nSnFf4pj",
        "colab_type": "code",
        "outputId": "e532d6db-7b63-4869-adb3-acf39e03dc23",
        "colab": {
          "base_uri": "https://localhost:8080/",
          "height": 253
        }
      },
      "source": [
        "## Set max sequence length\n",
        "maxSequenceLength = 300\n",
        "\n",
        "#Test data\n",
        "testdf = splitwords(rawdatatest, maxSeqLength = 300)\n",
        "sum(testdf['orderchanged'])\n",
        "print(\"Original Data Length\", len(testdf))\n",
        "temp = sum(testdf['orderchanged'])\n",
        "print(\"Removing\", temp, \"cases where word order is changed\")\n",
        "testdf = testdf.loc[testdf['orderchanged']==0,]\n",
        "temp = sum(testdf['xlen']>maxSequenceLength)\n",
        "print(\"Removing\",temp, \"cases where sequence length > maxSequenceLength\")\n",
        "testdf = testdf.loc[testdf['xlen']<=maxSequenceLength,]\n",
        "print(\"Test data length:\",len(testdf))\n",
        "\n",
        "# Train data\n",
        "traindf = splitwords(rawdatatrain,  maxSeqLength = 300)\n",
        "sum(traindf['orderchanged'])\n",
        "print(\"Original Data Length\", len(traindf))\n",
        "temp = sum(traindf['orderchanged'])\n",
        "print(\"Removing\", temp, \"cases where word order is changed\")\n",
        "traindf = traindf.loc[traindf['orderchanged']==0,]\n",
        "temp = sum(traindf['xlen']>maxSequenceLength)\n",
        "print(\"Removing\",temp, \"cases where sequence length > maxSequenceLength\")\n",
        "traindf = traindf.loc[traindf['xlen']<=maxSequenceLength,]\n",
        "print(\"Train data length:\",len(traindf))\n",
        "traindf.head(1)"
      ],
      "execution_count": 36,
      "outputs": [
        {
          "output_type": "stream",
          "text": [
            "Original Data Length 10000\n",
            "Removing 54 cases where word order is changed\n",
            "Removing 0 cases where sequence length > maxSequenceLength\n",
            "Test data length: 9946\n",
            "Original Data Length 200000\n",
            "Removing 1219 cases where word order is changed\n",
            "Removing 39 cases where sequence length > maxSequenceLength\n",
            "Train data length: 198742\n"
          ],
          "name": "stdout"
        },
        {
          "output_type": "execute_result",
          "data": {
            "text/html": [
              "<div>\n",
              "<style scoped>\n",
              "    .dataframe tbody tr th:only-of-type {\n",
              "        vertical-align: middle;\n",
              "    }\n",
              "\n",
              "    .dataframe tbody tr th {\n",
              "        vertical-align: top;\n",
              "    }\n",
              "\n",
              "    .dataframe thead th {\n",
              "        text-align: right;\n",
              "    }\n",
              "</style>\n",
              "<table border=\"1\" class=\"dataframe\">\n",
              "  <thead>\n",
              "    <tr style=\"text-align: right;\">\n",
              "      <th></th>\n",
              "      <th>original</th>\n",
              "      <th>summary</th>\n",
              "      <th>xsplit</th>\n",
              "      <th>ysplit</th>\n",
              "      <th>xlen</th>\n",
              "      <th>ylen</th>\n",
              "      <th>labelslist</th>\n",
              "      <th>orderchanged</th>\n",
              "    </tr>\n",
              "  </thead>\n",
              "  <tbody>\n",
              "    <tr>\n",
              "      <th>0</th>\n",
              "      <td>Serge Ibaka -- the Oklahoma City Thunder forwa...</td>\n",
              "      <td>Serge Ibaka has been granted Spanish citizensh...</td>\n",
              "      <td>[serge, ibaka, -, -, the, oklahoma, city, thun...</td>\n",
              "      <td>[serge, ibaka, has, been, granted, spanish, ci...</td>\n",
              "      <td>50</td>\n",
              "      <td>13</td>\n",
              "      <td>[1, 1, 0, 0, 0, 0, 0, 0, 0, 0, 0, 0, 0, 0, 0, ...</td>\n",
              "      <td>0</td>\n",
              "    </tr>\n",
              "  </tbody>\n",
              "</table>\n",
              "</div>"
            ],
            "text/plain": [
              "                                            original  ... orderchanged\n",
              "0  Serge Ibaka -- the Oklahoma City Thunder forwa...  ...            0\n",
              "\n",
              "[1 rows x 8 columns]"
            ]
          },
          "metadata": {
            "tags": []
          },
          "execution_count": 36
        }
      ]
    },
    {
      "cell_type": "markdown",
      "metadata": {
        "id": "h4Vmx3IP_Atd",
        "colab_type": "text"
      },
      "source": [
        "#### Create a Tokenizer based on glove embeddings"
      ]
    },
    {
      "cell_type": "code",
      "metadata": {
        "id": "n8E4LcRtlMFp",
        "colab_type": "code",
        "outputId": "926f65d4-792b-48e0-d7dc-9d26be77000e",
        "colab": {
          "base_uri": "https://localhost:8080/",
          "height": 87
        }
      },
      "source": [
        "##@ create tokenenizer\n",
        "tokenizer = Tokenizer(num_words = len(gloveModel.keys()),##@ Initialize Tokenizer (2196016 vocab size from glove model)\n",
        "                      oov_token='unknn') \n",
        "print(\"initialized tokenizer\")\n",
        "tokenizer.fit_on_texts(gloveModel.keys()) ##@ Increase our vocabulary (Updates internal vocabulary based on a list of texts)\n",
        "print(\"fitted tokenizer\")\n",
        "word_index = tokenizer.word_index ##@ Dict of word to index (Transforms each text in texts to a sequence of integers)\n",
        "print(\"Generated word index\")\n",
        "\n",
        "##@ Creates an array of (Vocabsize,embeddinglength), to be indexed by the word_indexer\n",
        "embedding_matrix = np.zeros((len(word_index) + 1, 300)) \n",
        "for word, i in word_index.items():\n",
        "    embedding_vector = gloveModel.get(word)\n",
        "    if embedding_vector is not None:\n",
        "        embedding_matrix[i] = embedding_vector\n",
        "embedding_matrix[word_index.get('unknn')] = np.array(unknownEmbedding) ##@ Set vector for unknown word\n",
        "print(\"Generated embedding_matrix\")\n",
        "max_features = 300\n",
        "embed_size = 300"
      ],
      "execution_count": 37,
      "outputs": [
        {
          "output_type": "stream",
          "text": [
            "initialized tokenizer\n",
            "fitted tokenizer\n",
            "Generated word index\n",
            "Generated embedding_matrix\n"
          ],
          "name": "stdout"
        }
      ]
    },
    {
      "cell_type": "markdown",
      "metadata": {
        "id": "kZXzOCYa_LRV",
        "colab_type": "text"
      },
      "source": [
        "#### Tokenize train data and pad sequences"
      ]
    },
    {
      "cell_type": "code",
      "metadata": {
        "id": "w72pWuM4Lxdg",
        "colab_type": "code",
        "colab": {}
      },
      "source": [
        "##@ Define my own text to sequences\n",
        "x_train = np.array(traindf['xsplit'])\n",
        "y_train = np.array(list(traindf['labelslist']))\n",
        "\n",
        "##@ Tokenize sentences\n",
        "x_train = tokenizer.texts_to_sequences(x_train)\n",
        "\n",
        "##@ Check length\n",
        "lengthcheck = []\n",
        "for i in x_train:\n",
        "    lengthcheck.append(len(i))\n",
        "traindf['checktokenizerlength'] = lengthcheck\n",
        "if sum(traindf['xlen']-traindf['checktokenizerlength']) != 0:\n",
        "    print(\"Problem with tokenizer due to sentence length!\")\n",
        "\n",
        "# Pad sequences\n",
        "x_train = sequence.pad_sequences(x_train, maxlen = max_features)"
      ],
      "execution_count": 0,
      "outputs": []
    },
    {
      "cell_type": "markdown",
      "metadata": {
        "id": "T5MDlF8H_YSb",
        "colab_type": "text"
      },
      "source": [
        "#### Split data into training and validation (dev) sets, and construct dataloader for batch processing"
      ]
    },
    {
      "cell_type": "code",
      "metadata": {
        "id": "dS1a81W-iydv",
        "colab_type": "code",
        "colab": {}
      },
      "source": [
        "## create training and validation split \n",
        "split = int(0.95 * len(x_train))\n",
        "index_list = list(range(len(x_train)))\n",
        "train_idx, valid_idx = index_list[:split], index_list[split:]\n",
        "\n",
        "## create iterator objects for train and valid datasets\n",
        "x_tr = torch.tensor(x_train[train_idx], dtype=torch.long)\n",
        "y_tr = torch.tensor(y_train[train_idx], dtype=torch.float32)\n",
        "train = TensorDataset(x_tr, y_tr)\n",
        "prediction_sampler = RandomSampler(train) # Random sampler\n",
        "trainloader = DataLoader(train,sampler = prediction_sampler, batch_size=128)\n",
        "\n",
        "x_val = torch.tensor(x_train[valid_idx], dtype=torch.long)\n",
        "y_val = torch.tensor(y_train[valid_idx], dtype=torch.float32)\n",
        "valid = TensorDataset(x_val, y_val)\n",
        "prediction_sampler = RandomSampler(valid) # Random sampler\n",
        "\n",
        "validloader = DataLoader(valid, sampler = prediction_sampler, batch_size=128)"
      ],
      "execution_count": 0,
      "outputs": []
    },
    {
      "cell_type": "markdown",
      "metadata": {
        "id": "kZWennyoV1qL",
        "colab_type": "text"
      },
      "source": [
        "# Construct Model"
      ]
    },
    {
      "cell_type": "code",
      "metadata": {
        "id": "7tZgf053V3TD",
        "colab_type": "code",
        "colab": {}
      },
      "source": [
        "#https://blog.exxactcorp.com/getting-started-with-natural-language-processing-using-pytorch/\n",
        "\n",
        "class Model(nn.Module):\n",
        "    def __init__(self):\n",
        "        super(Model, self).__init__()\n",
        "        \n",
        "        ## Embedding Layer, Add parameter \n",
        "        self.embedding = nn.Embedding(max_features, embed_size)   ##@ Pytorch embedding layer, read more if i can\n",
        "        et = torch.tensor(embedding_matrix, dtype=torch.float32)  ##@ makes the vector lookup array into a tensor\n",
        "        self.embedding.weight = nn.Parameter(et)                  ##@ Weights for embedding layer is the embeddings? \n",
        "        self.embedding.weight.requires_grad = False               ##@ Our glove embeddings will not be trainable\n",
        "        self.embedding_dropout = nn.Dropout2d(0.1)                ##@ guess he adds dropout for embeddings too\n",
        "        self.lstm = nn.LSTM(300, 40) \n",
        "        self.lstm2 = nn.LSTM(300, 300)      \n",
        "        self.lstm3 = nn.LSTM(300, 300, num_layers = 2, bidirectional = True, dropout = 0.1)        \n",
        "        self.linear = nn.Linear(40, 16)\n",
        "        self.linear1 = nn.Linear(600, 300)\n",
        "        self.linear2 = nn.Linear(300, 300)\n",
        "        self.linear3 = nn.Linear(1000, 500)\n",
        "        self.out = nn.Linear(16, 300)\n",
        "        self.out2 = nn.Linear(300, 300)\n",
        "        self.relu = nn.ReLU()\n",
        "        self.sigmoid = nn.Sigmoid()\n",
        "\n",
        "    # def forward(self, x):\n",
        "    #     h_embedding = self.embedding(x)        \n",
        "    #     h_lstm, _ = self.lstm(h_embedding)\n",
        "    #     max_pool, _ = torch.max(h_lstm, 1)        \n",
        "    #     linear = self.relu(self.linear(max_pool))\n",
        "    #     out = self.sigmoid(self.out(linear))\n",
        "    #     return out\n",
        "\n",
        "#My baseline\n",
        "    # def forward(self, x):\n",
        "    #     h_embedding = self.embedding(x) \n",
        "    #     h_lstm, _ = self.lstm3(h_embedding)\n",
        "    #     max_pool, _ = torch.max(h_lstm, 1)\n",
        "    #     h_linear1 = self.relu(self.linear1(max_pool))\n",
        "    #     h_linear2 = self.relu(self.linear2(h_linear1))\n",
        "    #     h_linear2 = self.relu(self.linear2(h_linear2))\n",
        "    #     h_linear2 = self.relu(self.linear2(h_linear2))\n",
        "    #     h_linear2 = self.relu(self.linear2(h_linear2))\n",
        "    #     h_linear2 = self.relu(self.linear2(h_linear2))\n",
        "    #     h_linear2 = self.relu(self.linear2(h_linear2))\n",
        "    #     h_linear2 = self.relu(self.linear2(h_linear2))\n",
        "    #     h_linear3 = self.relu(self.linear3(h_linear2)) \n",
        "    #     out = self.sigmoid(self.out2(h_linear3))\n",
        "    #     return out\n",
        "\n",
        "#My baseline 2\n",
        "    def forward(self, x):\n",
        "        h_embedding = self.embedding(x) \n",
        "        h_lstm, _ = self.lstm2(h_embedding)\n",
        "        max_pool, _ = torch.max(h_lstm, 1)\n",
        "        h_linear1 = self.relu(self.linear2(max_pool))\n",
        "        # h_linear2 = self.relu(self.linear2(h_linear1))\n",
        "        # h_linear3 = self.relu(self.linear3(h_linear2)) \n",
        "        out = self.sigmoid(self.out2(h_linear1))\n",
        "        return out\n",
        "\n",
        "model = Model()  \n",
        "\n",
        "# ##@ Test embeddings\n",
        "# embed = nn.Embedding(max_features, embed_size) \n",
        "# input1 = torch.LongTensor([[1,2,4,5],[4,3,2,9]])\n",
        "# print(input1.shape)\n",
        "# output1 = embed(input1)\n",
        "# print(output1.shape)"
      ],
      "execution_count": 0,
      "outputs": []
    },
    {
      "cell_type": "code",
      "metadata": {
        "id": "8c7bJJhWwB9c",
        "colab_type": "code",
        "outputId": "817c4f81-e7b5-4705-bd35-6e0dd6edee52",
        "colab": {
          "base_uri": "https://localhost:8080/",
          "height": 283
        }
      },
      "source": [
        "##@ Put model on GPU\n",
        "model.cuda()"
      ],
      "execution_count": 55,
      "outputs": [
        {
          "output_type": "execute_result",
          "data": {
            "text/plain": [
              "Model(\n",
              "  (embedding): Embedding(300, 300)\n",
              "  (embedding_dropout): Dropout2d(p=0.1, inplace=False)\n",
              "  (lstm): LSTM(300, 40)\n",
              "  (lstm2): LSTM(300, 300)\n",
              "  (lstm3): LSTM(300, 300, num_layers=2, dropout=0.1, bidirectional=True)\n",
              "  (linear): Linear(in_features=40, out_features=16, bias=True)\n",
              "  (linear1): Linear(in_features=600, out_features=300, bias=True)\n",
              "  (linear2): Linear(in_features=300, out_features=300, bias=True)\n",
              "  (linear3): Linear(in_features=1000, out_features=500, bias=True)\n",
              "  (out): Linear(in_features=16, out_features=300, bias=True)\n",
              "  (out2): Linear(in_features=300, out_features=300, bias=True)\n",
              "  (relu): ReLU()\n",
              "  (sigmoid): Sigmoid()\n",
              ")"
            ]
          },
          "metadata": {
            "tags": []
          },
          "execution_count": 55
        }
      ]
    },
    {
      "cell_type": "code",
      "metadata": {
        "id": "v38D5pN1ZcSd",
        "colab_type": "code",
        "colab": {}
      },
      "source": [
        "##@ Define Loss Function and optimizer\n",
        "\n",
        "loss_function = nn.BCEWithLogitsLoss(reduction='mean') #https://discuss.pytorch.org/t/is-there-an-example-for-multi-class-multilabel-classification-in-pytorch/53579/11\n",
        "optimizer = optim.Adam(model.parameters(),lr=0.001) #https://pytorch.org/docs/stable/optim.html\n",
        "\n",
        "### Other things may want to try: loss\n",
        "# https://discuss.pytorch.org/t/multi-label-classification-in-pytorch/905/11"
      ],
      "execution_count": 0,
      "outputs": []
    },
    {
      "cell_type": "markdown",
      "metadata": {
        "id": "nrm5sgD_84zv",
        "colab_type": "text"
      },
      "source": [
        "### Begin Training\n"
      ]
    },
    {
      "cell_type": "code",
      "metadata": {
        "id": "uEK98e_asWLA",
        "colab_type": "code",
        "outputId": "7db1f78d-1050-4c18-8c7a-ff5ea623a802",
        "colab": {
          "base_uri": "https://localhost:8080/",
          "height": 392
        }
      },
      "source": [
        "num_epochs = 20\n",
        "\n",
        "##@ Begin Training\n",
        "\n",
        "# Store our loss and accuracy for plotting\n",
        "train_loss_set = []\n",
        "valid_loss_set = []\n",
        "\n",
        "for epoch in range(1, num_epochs+1): ## run the model for 10 epochs\n",
        "    train_loss, valid_loss = [], []\n",
        "    ## training part \n",
        "    model.train()\n",
        "    for data, target in trainloader:\n",
        "        optimizer.zero_grad()\n",
        "\n",
        "        data = data.to(device)\n",
        "        target = target.to(device)\n",
        "\n",
        "        ## 1. forward propagation (Forward pass)\n",
        "        output = model(data)\n",
        "        \n",
        "        ## 2. loss calculation\n",
        "        loss = loss_function(output, target)\n",
        "        \n",
        "        ## 3. backward propagation (Backward pass)\n",
        "        loss.backward()\n",
        "        \n",
        "        ## 4. weight optimization (# Update parameters and take a step using the computed gradient)\n",
        "        optimizer.step()\n",
        "        \n",
        "        train_loss.append(loss.item()) ##@ Each step we append to trainloss\n",
        "    train_loss_set.append(np.mean(train_loss)) ##@ Store each epoch's loss for plotting\n",
        "\n",
        "    ## evaluation part for each epoch\n",
        "    model.eval() ##@ Set model to evaluation mode\n",
        "\n",
        "    # Tracking variables \n",
        "    predictions , true_labels = [], []\n",
        "\n",
        "    for data, target in validloader:\n",
        "\n",
        "        data = data.to(device)\n",
        "        target = target.to(device)\n",
        "\n",
        "        output = model(data)\n",
        "\n",
        "        # Move output and labels to CPU\n",
        "        output = output.detach().cpu()\n",
        "        target = target.to('cpu')\n",
        "\n",
        "        loss = loss_function(output, target)\n",
        "        valid_loss.append(loss.item())\n",
        "\n",
        "         # Store predictions and true labels\n",
        "        predictions.append(output)\n",
        "        true_labels.append(target)\n",
        "\n",
        "    valid_loss_set.append(np.mean(valid_loss))\n",
        "\n",
        "    # Calculate Metrics (per epoch)\n",
        "    # SentenceAccuracy\n",
        "    temp_flat_predictions = np.array([np.array(item) for sublist in predictions for item in sublist])\n",
        "    temp_flat_predictions_binary = np.where(temp_flat_predictions > 0.5, 1, 0)\n",
        "    temp_flat_labels = np.array([np.array(item) for sublist in true_labels for item in sublist])\n",
        "\n",
        "    sentenceaccuracy, _ = persentenceACC(temp_flat_predictions_binary,temp_flat_labels)\n",
        "\n",
        "    # Word-level F1 score\n",
        "    longlistpredictions = temp_flat_predictions_binary.flatten()\n",
        "    longlistlabels = temp_flat_labels.flatten()\n",
        "    f1 = f1_score(longlistlabels,longlistpredictions)\n",
        "\n",
        "    print (\"Epoch:\", epoch, \"Training Loss: \", np.mean(train_loss), \"Valid Loss: \", np.mean(valid_loss), \"Valid SA: \",sentenceaccuracy, \"Valid F1_Score: \", f1)"
      ],
      "execution_count": 57,
      "outputs": [
        {
          "output_type": "stream",
          "text": [
            "Epoch: 1 Training Loss:  0.6940699426866159 Valid Loss:  0.692131614837891 Valid SA:  0.0 Valid F1_Score:  0.4159352053526013\n",
            "Epoch: 2 Training Loss:  0.6918378797003893 Valid Loss:  0.6913560155110482 Valid SA:  0.0 Valid F1_Score:  0.45025748530283005\n",
            "Epoch: 3 Training Loss:  0.6910934980484206 Valid Loss:  0.6908937501601684 Valid SA:  0.0 Valid F1_Score:  0.44090520174357106\n",
            "Epoch: 4 Training Loss:  0.690784384887716 Valid Loss:  0.6906804427122458 Valid SA:  0.0 Valid F1_Score:  0.45305320212245004\n",
            "Epoch: 5 Training Loss:  0.6906217272850234 Valid Loss:  0.6906318825024825 Valid SA:  0.0 Valid F1_Score:  0.43497517296397675\n",
            "Epoch: 6 Training Loss:  0.6904897026334028 Valid Loss:  0.6904892126719157 Valid SA:  0.0 Valid F1_Score:  0.4649796746610775\n",
            "Epoch: 7 Training Loss:  0.6904045350264082 Valid Loss:  0.6904286016256381 Valid SA:  0.0 Valid F1_Score:  0.505043323705843\n",
            "Epoch: 8 Training Loss:  0.6903140540449277 Valid Loss:  0.6904001021996523 Valid SA:  0.0001006238679814852 Valid F1_Score:  0.48148318233407034\n",
            "Epoch: 9 Training Loss:  0.6902386242054342 Valid Loss:  0.6903936091141823 Valid SA:  0.0 Valid F1_Score:  0.5131693944404971\n",
            "Epoch: 10 Training Loss:  0.6901567318655935 Valid Loss:  0.6902827077951187 Valid SA:  0.0001006238679814852 Valid F1_Score:  0.502281698276692\n",
            "Epoch: 11 Training Loss:  0.6900879614721469 Valid Loss:  0.6902391971685947 Valid SA:  0.0 Valid F1_Score:  0.5216551966204105\n",
            "Epoch: 12 Training Loss:  0.690024068765847 Valid Loss:  0.6902123231154221 Valid SA:  0.0 Valid F1_Score:  0.48156466776649237\n",
            "Epoch: 13 Training Loss:  0.6899777836189037 Valid Loss:  0.6902540112153078 Valid SA:  0.0 Valid F1_Score:  0.5164174775036102\n",
            "Epoch: 14 Training Loss:  0.6899435340873594 Valid Loss:  0.6902045118503082 Valid SA:  0.0 Valid F1_Score:  0.4832669480871786\n",
            "Epoch: 15 Training Loss:  0.6899018640602185 Valid Loss:  0.6901475664896842 Valid SA:  0.0 Valid F1_Score:  0.5125368073525475\n",
            "Epoch: 16 Training Loss:  0.6898612443428376 Valid Loss:  0.6901276531891946 Valid SA:  0.0 Valid F1_Score:  0.5070782919522199\n",
            "Epoch: 17 Training Loss:  0.6898227650621719 Valid Loss:  0.6901167577657944 Valid SA:  0.0001006238679814852 Valid F1_Score:  0.5197602973526512\n",
            "Epoch: 18 Training Loss:  0.689794614951462 Valid Loss:  0.6901349234275329 Valid SA:  0.0 Valid F1_Score:  0.5198162737950075\n",
            "Epoch: 19 Training Loss:  0.6897645670627837 Valid Loss:  0.690102905799181 Valid SA:  0.0002012477359629704 Valid F1_Score:  0.5024586499776487\n",
            "Epoch: 20 Training Loss:  0.689735507254355 Valid Loss:  0.6901576939301614 Valid SA:  0.0 Valid F1_Score:  0.5012009504017194\n"
          ],
          "name": "stdout"
        }
      ]
    },
    {
      "cell_type": "code",
      "metadata": {
        "id": "5QuCi-xIwHLE",
        "colab_type": "code",
        "colab": {}
      },
      "source": [
        "# hello"
      ],
      "execution_count": 0,
      "outputs": []
    },
    {
      "cell_type": "markdown",
      "metadata": {
        "id": "y1mZ0L5fCZvr",
        "colab_type": "text"
      },
      "source": [
        ""
      ]
    },
    {
      "cell_type": "code",
      "metadata": {
        "id": "UREFF_uPseTN",
        "colab_type": "code",
        "outputId": "c967c505-5b49-45d7-856c-16e2ed5fe7fb",
        "colab": {
          "base_uri": "https://localhost:8080/",
          "height": 513
        }
      },
      "source": [
        "## Plot Training and Validation Loss\n",
        "plt.figure(figsize=(15,8))\n",
        "plt.title(\"Training loss\")\n",
        "plt.xlabel(\"Epoch\")\n",
        "plt.ylabel(\"Loss\")\n",
        "plt.plot(train_loss_set)\n",
        "plt.plot(valid_loss_set)\n",
        "plt.show()"
      ],
      "execution_count": 59,
      "outputs": [
        {
          "output_type": "display_data",
          "data": {
            "image/png": "[encoded data removed]",
            "text/plain": [
              "<Figure size 1080x576 with 1 Axes>"
            ]
          },
          "metadata": {
            "tags": [],
            "needs_background": "light"
          }
        }
      ]
    },
    {
      "cell_type": "markdown",
      "metadata": {
        "id": "F2JFP-woA0c8",
        "colab_type": "text"
      },
      "source": [
        "### Save Model"
      ]
    },
    {
      "cell_type": "code",
      "metadata": {
        "id": "oxygr-6XsgIg",
        "colab_type": "code",
        "colab": {}
      },
      "source": [
        "# Save the model\n",
        "PATH = '/content/drive/My Drive/DeepLearningProject/models/basicmodel.pth'\n",
        "torch.save(model.state_dict(), PATH)"
      ],
      "execution_count": 0,
      "outputs": []
    },
    {
      "cell_type": "markdown",
      "metadata": {
        "id": "aV7HnaGr-fDm",
        "colab_type": "text"
      },
      "source": [
        "#Predict and Evaluate on Test Set"
      ]
    },
    {
      "cell_type": "markdown",
      "metadata": {
        "id": "D6b6D_bzA6sb",
        "colab_type": "text"
      },
      "source": [
        "### Load model weights"
      ]
    },
    {
      "cell_type": "code",
      "metadata": {
        "id": "YyluxCct-Uup",
        "colab_type": "code",
        "outputId": "b1ae6fe8-79bc-423e-ec32-6720098aa285",
        "colab": {
          "base_uri": "https://localhost:8080/",
          "height": 283
        }
      },
      "source": [
        "### Load Model\n",
        "model2 = model\n",
        "PATH = '/content/drive/My Drive/DeepLearningProject/models/basicmodel.pth'\n",
        "model2.load_state_dict(torch.load(PATH))\n",
        "model2.cuda"
      ],
      "execution_count": 61,
      "outputs": [
        {
          "output_type": "execute_result",
          "data": {
            "text/plain": [
              "<bound method Module.cuda of Model(\n",
              "  (embedding): Embedding(300, 300)\n",
              "  (embedding_dropout): Dropout2d(p=0.1, inplace=False)\n",
              "  (lstm): LSTM(300, 40)\n",
              "  (lstm2): LSTM(300, 300)\n",
              "  (lstm3): LSTM(300, 300, num_layers=2, dropout=0.1, bidirectional=True)\n",
              "  (linear): Linear(in_features=40, out_features=16, bias=True)\n",
              "  (linear1): Linear(in_features=600, out_features=300, bias=True)\n",
              "  (linear2): Linear(in_features=300, out_features=300, bias=True)\n",
              "  (linear3): Linear(in_features=1000, out_features=500, bias=True)\n",
              "  (out): Linear(in_features=16, out_features=300, bias=True)\n",
              "  (out2): Linear(in_features=300, out_features=300, bias=True)\n",
              "  (relu): ReLU()\n",
              "  (sigmoid): Sigmoid()\n",
              ")>"
            ]
          },
          "metadata": {
            "tags": []
          },
          "execution_count": 61
        }
      ]
    },
    {
      "cell_type": "code",
      "metadata": {
        "id": "hjE-Rg6_AtRO",
        "colab_type": "code",
        "colab": {}
      },
      "source": [
        "##@ Define my own text to sequences\n",
        "x_test = np.array(testdf['xsplit'])\n",
        "y_test = np.array(list(testdf['labelslist']))\n",
        "\n",
        "##@ Tokenize sentences\n",
        "x_test = tokenizer.texts_to_sequences(x_test)\n",
        "\n",
        "##@ Check length\n",
        "lengthcheck = []\n",
        "for i in x_test:\n",
        "    lengthcheck.append(len(i))\n",
        "testdf['checktokenizerlength'] = lengthcheck\n",
        "if sum(testdf['xlen']-testdf['checktokenizerlength']) != 0:\n",
        "    print(\"Problem with tokenizer due to sentence length!\")\n",
        "\n",
        "# Pad sequences\n",
        "x_test = sequence.pad_sequences(x_test, maxlen = max_features)\n",
        "\n",
        "## create iterator objects for test dataset\n",
        "x_ts = torch.tensor(x_test, dtype=torch.long)\n",
        "y_ts = torch.tensor(y_test, dtype=torch.float32)\n",
        "test = TensorDataset(x_ts, y_ts)\n",
        "prediction_sampler = SequentialSampler(test)\n",
        "testloader = DataLoader(test,sampler = prediction_sampler, batch_size=128)"
      ],
      "execution_count": 0,
      "outputs": []
    },
    {
      "cell_type": "markdown",
      "metadata": {
        "id": "S57S-cCpXeQM",
        "colab_type": "text"
      },
      "source": [
        "### Predict on Test Set"
      ]
    },
    {
      "cell_type": "code",
      "metadata": {
        "id": "b3O0hUOFVbLZ",
        "colab_type": "code",
        "outputId": "d6e8b8de-a0c6-48ef-fe2b-a82fd0e3aee7",
        "colab": {
          "base_uri": "https://localhost:8080/",
          "height": 34
        }
      },
      "source": [
        "# Put model in evaluation mode\n",
        "model2.eval()\n",
        "\n",
        "# Tracking variables \n",
        "predictions , true_labels = [], []\n",
        "\n",
        "for data, target in testloader:\n",
        "\n",
        "    data = data.to(device)\n",
        "    target = target.to(device)\n",
        "\n",
        "    output = model2(data)\n",
        "\n",
        "    # Move output and labels to CPU\n",
        "    output = output.detach().cpu()\n",
        "    target = target.to('cpu')\n",
        "\n",
        "    loss = loss_function(output, target)\n",
        "\n",
        "    # Store predictions and true labels\n",
        "    predictions.append(output)\n",
        "    true_labels.append(target)\n",
        "\n",
        "#  Calculate Metric\n",
        "# SentenceAccuracy\n",
        "temp_flat_predictions = np.array([np.array(item) for sublist in predictions for item in sublist])\n",
        "temp_flat_predictions_binary = np.where(temp_flat_predictions > 0.5, 1, 0)\n",
        "temp_flat_labels = np.array([np.array(item) for sublist in true_labels for item in sublist])\n",
        "\n",
        "sentenceaccuracy, _ = persentenceACC(temp_flat_predictions_binary,temp_flat_labels)\n",
        "\n",
        "# Word-level F1 score\n",
        "longlistpredictions = temp_flat_predictions_binary.flatten()\n",
        "longlistlabels = temp_flat_labels.flatten()\n",
        "f1 = f1_score(longlistlabels,longlistpredictions)\n",
        "\n",
        "print (\"SA: \",sentenceaccuracy, \"F1_Score: \", f1)"
      ],
      "execution_count": 63,
      "outputs": [
        {
          "output_type": "stream",
          "text": [
            "SA:  0.0 F1_Score:  0.49671230998398225\n"
          ],
          "name": "stdout"
        }
      ]
    },
    {
      "cell_type": "code",
      "metadata": {
        "id": "OG79oKS0D5te",
        "colab_type": "code",
        "colab": {
          "base_uri": "https://localhost:8080/",
          "height": 52
        },
        "outputId": "1ee22dfa-6384-46d9-92b1-3ac18f361700"
      },
      "source": [
        "test = []\n",
        "for i in range(100):\n",
        "    randomnum = np.random.randint(2, size=2983800)\n",
        "    test.append(f1_score(longlistlabels,randomnum))\n",
        "\n",
        "print(len(test))\n",
        "np.mean(test)"
      ],
      "execution_count": 68,
      "outputs": [
        {
          "output_type": "stream",
          "text": [
            "100\n"
          ],
          "name": "stdout"
        },
        {
          "output_type": "execute_result",
          "data": {
            "text/plain": [
              "0.0693914327570599"
            ]
          },
          "metadata": {
            "tags": []
          },
          "execution_count": 68
        }
      ]
    },
    {
      "cell_type": "markdown",
      "metadata": {
        "id": "sUUe1XxBe0DG",
        "colab_type": "text"
      },
      "source": [
        "# Display Results"
      ]
    },
    {
      "cell_type": "code",
      "metadata": {
        "id": "mY6aO8_5XK9O",
        "colab_type": "code",
        "colab": {}
      },
      "source": [
        "testsentences = list(testdf['xsplit'])\n",
        "\n",
        "predsentences = []\n",
        "for i in range(len(testsentences)):\n",
        "    predictedsentence = \"\"\n",
        "    for j in range(len(testsentences[i])):\n",
        "        if temp_flat_predictions_binary[i][j] == 1:\n",
        "            predictedsentence += testsentences[i][j] + \" \"\n",
        "    predsentences.append(predictedsentence)\n",
        "    \n",
        "testdf['predictedsentence'] = predsentences\n"
      ],
      "execution_count": 0,
      "outputs": []
    },
    {
      "cell_type": "code",
      "metadata": {
        "id": "5Qqks0UyYb6O",
        "colab_type": "code",
        "outputId": "11235e5a-a539-457d-d75d-ba1d1c0517e4",
        "colab": {
          "base_uri": "https://localhost:8080/",
          "height": 197
        }
      },
      "source": [
        "checkdf = testdf[['original','summary','predictedsentence']]\n",
        "checkdf.head()"
      ],
      "execution_count": 65,
      "outputs": [
        {
          "output_type": "execute_result",
          "data": {
            "text/html": [
              "<div>\n",
              "<style scoped>\n",
              "    .dataframe tbody tr th:only-of-type {\n",
              "        vertical-align: middle;\n",
              "    }\n",
              "\n",
              "    .dataframe tbody tr th {\n",
              "        vertical-align: top;\n",
              "    }\n",
              "\n",
              "    .dataframe thead th {\n",
              "        text-align: right;\n",
              "    }\n",
              "</style>\n",
              "<table border=\"1\" class=\"dataframe\">\n",
              "  <thead>\n",
              "    <tr style=\"text-align: right;\">\n",
              "      <th></th>\n",
              "      <th>original</th>\n",
              "      <th>summary</th>\n",
              "      <th>predictedsentence</th>\n",
              "    </tr>\n",
              "  </thead>\n",
              "  <tbody>\n",
              "    <tr>\n",
              "      <th>0</th>\n",
              "      <td>Five people have been taken to hospital with m...</td>\n",
              "      <td>Five people have been taken to hospital with m...</td>\n",
              "      <td>five people have been taken to hospital with</td>\n",
              "    </tr>\n",
              "    <tr>\n",
              "      <th>1</th>\n",
              "      <td>Several school districts in Hampton Roads are ...</td>\n",
              "      <td>Several school districts are holding classes t...</td>\n",
              "      <td>several school districts in</td>\n",
              "    </tr>\n",
              "    <tr>\n",
              "      <th>2</th>\n",
              "      <td>Luis Suarez was spotted in London this afterno...</td>\n",
              "      <td>Luis Suarez was spotted in London.</td>\n",
              "      <td>luis suarez was spotted in</td>\n",
              "    </tr>\n",
              "    <tr>\n",
              "      <th>3</th>\n",
              "      <td>A woman was injured by a falling tree in the G...</td>\n",
              "      <td>A woman was injured by a falling tree.</td>\n",
              "      <td>a woman was injured by a falling tree in</td>\n",
              "    </tr>\n",
              "    <tr>\n",
              "      <th>4</th>\n",
              "      <td>Birmingham poet Benjamin Zephaniah is today le...</td>\n",
              "      <td>Benjamin Zephaniah is today leading an poetry ...</td>\n",
              "      <td>zephaniah is today leading an interactive poet...</td>\n",
              "    </tr>\n",
              "  </tbody>\n",
              "</table>\n",
              "</div>"
            ],
            "text/plain": [
              "                                            original  ...                                  predictedsentence\n",
              "0  Five people have been taken to hospital with m...  ...      five people have been taken to hospital with \n",
              "1  Several school districts in Hampton Roads are ...  ...                       several school districts in \n",
              "2  Luis Suarez was spotted in London this afterno...  ...                        luis suarez was spotted in \n",
              "3  A woman was injured by a falling tree in the G...  ...          a woman was injured by a falling tree in \n",
              "4  Birmingham poet Benjamin Zephaniah is today le...  ...  zephaniah is today leading an interactive poet...\n",
              "\n",
              "[5 rows x 3 columns]"
            ]
          },
          "metadata": {
            "tags": []
          },
          "execution_count": 65
        }
      ]
    },
    {
      "cell_type": "code",
      "metadata": {
        "id": "jJ2DfzQDj_9M",
        "colab_type": "code",
        "colab": {}
      },
      "source": [
        "checkdf.to_csv('checkdf.csv')"
      ],
      "execution_count": 0,
      "outputs": []
    },
    {
      "cell_type": "code",
      "metadata": {
        "id": "cjg1M5_DQIIz",
        "colab_type": "code",
        "colab": {}
      },
      "source": [
        "for i in range(999999999999999999999999999):\n",
        "    x = 10\n",
        "    "
      ],
      "execution_count": 0,
      "outputs": []
    },
    {
      "cell_type": "code",
      "metadata": {
        "id": "ALpLv43CDugs",
        "colab_type": "code",
        "colab": {}
      },
      "source": [
        ""
      ],
      "execution_count": 0,
      "outputs": []
    }
  ]
}